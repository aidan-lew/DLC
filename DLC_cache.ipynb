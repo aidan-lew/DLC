{
 "cells": [
  {
   "cell_type": "code",
   "execution_count": null,
   "id": "f63a856d-5314-418c-b249-d670c99d7081",
   "metadata": {},
   "outputs": [],
   "source": [
    "#start here \n",
    "https://github.com/DeepLabCut/DLCutils     \n",
    "\n",
    "#good for looking, angles, etc\n",
    "https://www.protocols.io/view/a-step-by-step-guide-to-using-visual-field-analysi-bicvkaw6\n",
    "                 \n",
    "#Master gitub\n",
    "https://github.com/DeepLabCut/DeepLabCut\n",
    "    https://github.com/DeepLabCut/DeepLabCut/blob/master/deeplabcut/utils/visualization.py\n",
    "        "
   ]
  },
  {
   "cell_type": "code",
   "execution_count": null,
   "id": "07a910af-ad67-4b3f-9288-eadd45686c69",
   "metadata": {},
   "outputs": [],
   "source": []
  }
 ],
 "metadata": {
  "kernelspec": {
   "display_name": "Python 3",
   "language": "python",
   "name": "python3"
  },
  "language_info": {
   "codemirror_mode": {
    "name": "ipython",
    "version": 3
   },
   "file_extension": ".py",
   "mimetype": "text/x-python",
   "name": "python",
   "nbconvert_exporter": "python",
   "pygments_lexer": "ipython3",
   "version": "3.8.5"
  }
 },
 "nbformat": 4,
 "nbformat_minor": 5
}
